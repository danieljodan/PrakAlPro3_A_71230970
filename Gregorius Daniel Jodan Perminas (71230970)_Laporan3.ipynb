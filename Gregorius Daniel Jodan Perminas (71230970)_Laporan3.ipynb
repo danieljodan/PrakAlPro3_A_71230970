{
 "cells": [
  {
   "cell_type": "markdown",
   "id": "9d111c72-65ec-4eaa-a003-ee7a9b14ae21",
   "metadata": {},
   "source": [
    "# Latihan Mandiri 3.1"
   ]
  },
  {
   "cell_type": "code",
   "execution_count": 10,
   "id": "5e6192b3-244c-4841-aebd-953d68bf1577",
   "metadata": {},
   "outputs": [
    {
     "name": "stdin",
     "output_type": "stream",
     "text": [
      "Masukkan suhu tubuh (Celcius):  tiga puluh\n"
     ]
    },
    {
     "name": "stdout",
     "output_type": "stream",
     "text": [
      "Maaf tolong masukkan suhu tubuh dalam bentuk angka\n"
     ]
    }
   ],
   "source": [
    "# Contoh 3.1\n",
    "\n",
    "dataInput = input(\"Masukkan suhu tubuh (Celcius): \")\n",
    "try:\n",
    "    suhu = int(dataInput)\n",
    "    if suhu >= 38:\n",
    "        print(\"Anda demam\")\n",
    "    else:\n",
    "        print(\"Anda tidak demam\")\n",
    "except:\n",
    "    print(\"Maaf tolong masukkan suhu tubuh dalam bentuk angka\")"
   ]
  },
  {
   "cell_type": "code",
   "execution_count": 9,
   "id": "2afad14b-bd50-45e4-8456-6f5f77589f3b",
   "metadata": {},
   "outputs": [
    {
     "name": "stdin",
     "output_type": "stream",
     "text": [
      "Masukkan suatu bilangan:  lima\n"
     ]
    },
    {
     "name": "stdout",
     "output_type": "stream",
     "text": [
      "Maaf tolong masukkan bilangan dalam bentuk angka\n"
     ]
    }
   ],
   "source": [
    "# Contoh 3.2\n",
    "\n",
    "dataInput = input(\"Masukkan suatu bilangan: \")\n",
    "try:\n",
    "    bilangan = int(dataInput)\n",
    "    if bilangan > 0:\n",
    "        print(\"Positif\")\n",
    "    elif bilangan < 0:\n",
    "        print(\"Negatif\")\n",
    "    elif bilangan == 0:\n",
    "        print(\"Nol\")\n",
    "except:\n",
    "    print(\"Maaf tolong masukkan bilangan dalam bentuk angka\")"
   ]
  },
  {
   "cell_type": "code",
   "execution_count": 11,
   "id": "6bbfd74c-bb7f-4d7d-b558-f9b1188ce15a",
   "metadata": {},
   "outputs": [
    {
     "name": "stdin",
     "output_type": "stream",
     "text": [
      "Masukkan bilangan pertama:  5\n",
      "Masukkan bilangan kedua:  6\n",
      "Masukkan bilangan ketiga:  tujuh\n"
     ]
    },
    {
     "name": "stdout",
     "output_type": "stream",
     "text": [
      "Maaf tolong masukkan bilangan dalam bentuk angka\n"
     ]
    }
   ],
   "source": [
    "# Contoh 3.3\n",
    "\n",
    "# input a, b dan c\n",
    "input1 = input(\"Masukkan bilangan pertama: \")\n",
    "input2 = input(\"Masukkan bilangan kedua: \")\n",
    "input3 = input(\"Masukkan bilangan ketiga: \")\n",
    "\n",
    "# secara berurutan tulis kriteria untuk a, b, dan c\n",
    "try:\n",
    "    a = int(input1)\n",
    "    b = int(input2)\n",
    "    c = int(input3)\n",
    "    if a > b and a > c:\n",
    "        print(\"Terbesar: \", a)\n",
    "    elif b > a and b > c:\n",
    "        print(\"Terbesar: \", b)\n",
    "    elif c > a and c > b:\n",
    "        print(\"Terbesar: \", c)\n",
    "except:\n",
    "    print(\"Maaf tolong masukkan bilangan dalam bentuk angka\")"
   ]
  },
  {
   "cell_type": "markdown",
   "id": "ce533899-dbd3-4efa-a23f-1e7e638755d8",
   "metadata": {},
   "source": [
    "# Latihan Mandiri 3.2"
   ]
  },
  {
   "cell_type": "code",
   "execution_count": 13,
   "id": "cf47d108-67bb-4bcf-b6ef-11a63a74057e",
   "metadata": {},
   "outputs": [
    {
     "name": "stdin",
     "output_type": "stream",
     "text": [
      "Masukkan suatu bilangan:  1\n"
     ]
    },
    {
     "name": "stdout",
     "output_type": "stream",
     "text": [
      "Positif\n"
     ]
    }
   ],
   "source": [
    "bilangan = int(input(\"Masukkan suatu bilangan: \"))\n",
    "print(\"Positif\" if bilangan > 0 else \"Negatif\" if bilangan < 0 else \"Nol\")"
   ]
  },
  {
   "cell_type": "markdown",
   "id": "ff60cc01-213b-45c3-8e0d-042693628337",
   "metadata": {},
   "source": [
    "# Latihan Mandiri 3.3"
   ]
  },
  {
   "cell_type": "code",
   "execution_count": 26,
   "id": "679e7c5f-9b5b-4514-bd6b-0bfc80e99a4e",
   "metadata": {},
   "outputs": [
    {
     "name": "stdin",
     "output_type": "stream",
     "text": [
      "Masukkan bulan 1-12:  1\n"
     ]
    },
    {
     "name": "stdout",
     "output_type": "stream",
     "text": [
      "31\n"
     ]
    }
   ],
   "source": [
    "# Function untuk menentukan jumlah hari\n",
    "def jumlahHari (inputBulan):\n",
    "    if inputBulan in [1,3,5,7,8,10,12]: # List bulan dengan jumlah hari 31\n",
    "        return \"31\"\n",
    "    elif inputBulan == 2: # List bulan dengan jumlah hari 29\n",
    "        return \"29\"\n",
    "    elif inputBulan in [4,6,9,11]: # List bulan dengan jumlah hari 30\n",
    "        return \"30\"\n",
    "    else:\n",
    "        return \"Bulan yang diinput tidak valid!\" # Penanganan ketika input di luar interval 1-12\n",
    "\n",
    "try:\n",
    "    inputData = int(input(\"Masukkan bulan 1-12: \"))\n",
    "    print (jumlahHari(inputData))\n",
    "except:\n",
    "    print(\"Masukkan bulan dalam bentuk angka!\")"
   ]
  },
  {
   "cell_type": "markdown",
   "id": "d449f49a-9f29-4c68-a192-740424fc3718",
   "metadata": {},
   "source": [
    "# Latihan Mandiri 3.4"
   ]
  },
  {
   "cell_type": "code",
   "execution_count": 27,
   "id": "b781d4ff-48d6-47f1-9c72-0f21bfeb09a4",
   "metadata": {},
   "outputs": [
    {
     "name": "stdin",
     "output_type": "stream",
     "text": [
      "Masukkan sisi 1:  15\n",
      "Masukkan sisi 2:  17\n",
      "Masukkan sisi 3:  3\n"
     ]
    },
    {
     "name": "stdout",
     "output_type": "stream",
     "text": [
      "Tidak ada yang sama\n"
     ]
    }
   ],
   "source": [
    "# Function untuk mengecek sisi\n",
    "def pengecekanSisi(x,y,z):\n",
    "    if x == y == z:\n",
    "        return \"3 sisi sama\"\n",
    "    elif x == y or x == z or y == z:\n",
    "        return \"2 sisi sama\"\n",
    "    else:\n",
    "        return \"Tidak ada yang sama\"\n",
    "\n",
    "try:\n",
    "    sisi1 = int(input(\"Masukkan sisi 1: \"))\n",
    "    sisi2 = int(input(\"Masukkan sisi 2: \"))\n",
    "    sisi3 = int(input(\"Masukkan sisi 3: \"))\n",
    "    print(pengecekanSisi(sisi1,sisi2,sisi3))\n",
    "except:\n",
    "    print(\"Maaf tolong masukkan input dalam format angka\")"
   ]
  }
 ],
 "metadata": {
  "kernelspec": {
   "display_name": "Python 3 (ipykernel)",
   "language": "python",
   "name": "python3"
  },
  "language_info": {
   "codemirror_mode": {
    "name": "ipython",
    "version": 3
   },
   "file_extension": ".py",
   "mimetype": "text/x-python",
   "name": "python",
   "nbconvert_exporter": "python",
   "pygments_lexer": "ipython3",
   "version": "3.11.5"
  }
 },
 "nbformat": 4,
 "nbformat_minor": 5
}
